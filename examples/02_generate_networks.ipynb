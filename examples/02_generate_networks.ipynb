{
 "cells": [
  {
   "cell_type": "code",
   "execution_count": null,
   "id": "4f480cdd",
   "metadata": {},
   "outputs": [],
   "source": [
    "from twitterexplorer.helpers import load_data\n",
    "from twitterexplorer.plotting import tweetdf_to_timeseries\n",
    "from twitterexplorer.plotting import plot_timeseries\n",
    "from twitterexplorer.networks import InteractionNetwork\n",
    "from twitterexplorer.networks import SemanticNetwork"
   ]
  },
  {
   "cell_type": "code",
   "execution_count": null,
   "id": "29c698f8",
   "metadata": {},
   "outputs": [],
   "source": [
    "## ========================================\n",
    "## DATA EXPLORATION\n",
    "## ========================================\n",
    "\n",
    "df = load_data(\"<PATH_TO_COLLECTED_DATA>\")\n",
    "timeseries = tweetdf_to_timeseries(df,frequency=\"1H\")\n",
    "plot_timeseries(timeseries).properties(width=800,height=500)"
   ]
  },
  {
   "cell_type": "code",
   "execution_count": null,
   "id": "9198892a",
   "metadata": {},
   "outputs": [],
   "source": [
    "## ========================================\n",
    "## INTERACTION NETWORKS\n",
    "## ========================================\n",
    "\n",
    "## instantiate the network object\n",
    "retweetnetwork = InteractionNetwork()\n",
    "\n",
    "## build a network from the data\n",
    "retweetnetwork.build_network(pandas_dataframe=df,\n",
    "                             interaction_type='retweet',\n",
    "                             starttime=None,\n",
    "                             endtime=None)\n",
    "\n",
    "## do some network reduction\n",
    "retweetnetwork.reduce_network(giant_component=True,\n",
    "                              aggregation=None)\n",
    "\n",
    "## run community detection algorithms\n",
    "retweetnetwork.community_detection(louvain=True,\n",
    "                                   leiden=True)\n",
    "\n",
    "## build the d3-dictionary\n",
    "retweetnetwork.build_d3dict(private=False,\n",
    "                            search_query=\"<USED_SEARCH_QUERY>\",\n",
    "                            collected_on=\"<COLLECTION_DATE>\"\n",
    "                            )\n",
    "\n",
    "## write the HTML and explore it\n",
    "retweetnetwork.write_html(\"<PATH_TO_EXPLORER_NETWORK>\")"
   ]
  },
  {
   "cell_type": "code",
   "execution_count": null,
   "id": "c2d26ad9",
   "metadata": {},
   "outputs": [],
   "source": [
    "## ========================================\n",
    "## SEMANTIC NETWORKS\n",
    "## ========================================\n",
    "\n",
    "## instantiate the network object\n",
    "hashtagnetwork = SemanticNetwork()\n",
    "\n",
    "## build a network from the data\n",
    "hashtagnetwork.build_network(pandas_dataframe=df,\n",
    "                             hashtags_to_remove=None,\n",
    "                             starttime=None,\n",
    "                             endtime=None,\n",
    "                             )\n",
    "\n",
    "## do some network reduction\n",
    "hashtagnetwork.reduce_network(giant_component=True,\n",
    "                              node_threshold=0,\n",
    "                              link_threshold=0)\n",
    "\n",
    "## run community detection algorithms\n",
    "hashtagnetwork.community_detection(louvain=True,\n",
    "                                   leiden=False)\n",
    "\n",
    "## build the d3-dictionary\n",
    "hashtagnetwork.build_d3dict(search_query=\"<USED_SEARCH_QUERY>\",\n",
    "                            collected_on=\"<COLLECTION_DATE>\"\n",
    "                            )\n",
    "\n",
    "## write the HTML and explore it\n",
    "hashtagnetwork.write_html(\"<PATH_TO_EXPLORER_NETWORK>\")"
   ]
  }
 ],
 "metadata": {
  "kernelspec": {
   "display_name": "Python 3 (ipykernel)",
   "language": "python",
   "name": "python3"
  },
  "language_info": {
   "codemirror_mode": {
    "name": "ipython",
    "version": 3
   },
   "file_extension": ".py",
   "mimetype": "text/x-python",
   "name": "python",
   "nbconvert_exporter": "python",
   "pygments_lexer": "ipython3",
   "version": "3.8.15"
  }
 },
 "nbformat": 4,
 "nbformat_minor": 5
}
