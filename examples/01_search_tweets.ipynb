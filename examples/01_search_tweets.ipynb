{
 "cells": [
  {
   "cell_type": "code",
   "execution_count": null,
   "id": "9663adbc",
   "metadata": {},
   "outputs": [],
   "source": [
    "import datetime as dt\n",
    "from twitterexplorer.tweetcollector import Collector"
   ]
  },
  {
   "cell_type": "code",
   "execution_count": null,
   "id": "3179401d",
   "metadata": {},
   "outputs": [],
   "source": [
    "## ========================================\n",
    "## SEARCH TWEETS (API V1)\n",
    "## ========================================\n",
    "\n",
    "collector = Collector()\n",
    "\n",
    "collector.authenticate(api_version=\"v1_standard\",\n",
    "                       api_key=\"<INSERT_API_KEY>\",\n",
    "                       api_secret_key=\"<INSERT_API_SECRET_KEY>\")\n",
    "\n",
    "collector.set_parameters_v1(search_query=\"<INSERT SEARCH QUERY HERE>\",\n",
    "                            geocode=None,\n",
    "                            language=None,\n",
    "                            start_time=None,\n",
    "                            end_time=None,\n",
    "                            sinceid=None,\n",
    "                            untilid=None,\n",
    "                            result_type=None,\n",
    "                            tweet_limit=100,\n",
    "                            save_csv=True,\n",
    "                            save_full_api_response=False,\n",
    "                            output_directory=\"<OUTPUT_DIRECTORY>\",\n",
    "                            custom_save_name=None,\n",
    "                               )\n",
    "\n",
    "collector.start()"
   ]
  },
  {
   "cell_type": "code",
   "execution_count": null,
   "id": "497ecba0",
   "metadata": {
    "scrolled": true
   },
   "outputs": [],
   "source": [
    "## ========================================\n",
    "## SEARCH TWEETS (API V2)\n",
    "## ========================================\n",
    "\n",
    "collector = Collector()\n",
    "\n",
    "collector.authenticate(api_version=\"v2_standard\",\n",
    "                       bearer_token=\"<INSERT_BEARER_TOKEN_HERE>\")\n",
    "\n",
    "collector.set_parameters_v2(search_query=\"<INSERT SEARCH QUERY HERE>\",\n",
    "                            sinceid=None,\n",
    "                            untilid=None,\n",
    "                            start_time=None,\n",
    "                            end_time=None,\n",
    "                            page_limit=None,\n",
    "                            tweet_limit=None,                          \n",
    "                            save_csv=True,                          \n",
    "                            save_full_api_response=False,\n",
    "                            output_directory=\"<OUTPUT_DIRECTORY>\",\n",
    "                            custom_save_name=None,\n",
    "                           )\n",
    "\n",
    "collector.start()"
   ]
  }
 ],
 "metadata": {
  "kernelspec": {
   "display_name": "Python 3 (ipykernel)",
   "language": "python",
   "name": "python3"
  },
  "language_info": {
   "codemirror_mode": {
    "name": "ipython",
    "version": 3
   },
   "file_extension": ".py",
   "mimetype": "text/x-python",
   "name": "python",
   "nbconvert_exporter": "python",
   "pygments_lexer": "ipython3",
   "version": "3.8.15"
  }
 },
 "nbformat": 4,
 "nbformat_minor": 5
}
